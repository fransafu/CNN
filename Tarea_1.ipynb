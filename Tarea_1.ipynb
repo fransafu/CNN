{
  "nbformat": 4,
  "nbformat_minor": 0,
  "metadata": {
    "colab": {
      "name": "Tarea 1.ipynb",
      "provenance": [],
      "collapsed_sections": []
    },
    "kernelspec": {
      "name": "python3",
      "display_name": "Python 3"
    },
    "accelerator": "GPU"
  },
  "cells": [
    {
      "cell_type": "markdown",
      "metadata": {
        "id": "bYur_CItUa15"
      },
      "source": [
        "# Tarea Nº1, Visión por computador. Redes convolucionales.\n",
        "\n",
        "## Justificación de porque use Google Colab\n",
        "\n",
        "Actualmente no tengo GPU para entrenar mis modelos y Google Colab provee suficiente GPU para realizar los experimentos en un tiempo razonable, en promedio se demora 25 a 35 minutos por experimento, en mi computadora local se demora sobre 10 horas por experimento con la CPU (8 hilos).\n",
        "\n",
        "### disclaimers\n",
        "\n",
        "Es muy basica la implementación y la forma de trabajar con los modelos en Google Colab, sin embargo debo comentar que hubo un esfuerzo constante en transcribir codigo, revisar que los modelos estuviesen bien diseñados (según los papers base), configurar hiperparametros (tuve que informarme sobre su significado), preparar el dataset y generar funciones de metrica. Lo cual no me permitió hacer una solución más elegante.\n",
        "\n",
        "# Preparar entorno de trabajo\n",
        "\n",
        "Para utilizar Google Colab de forma eficiente, elegí conectar Google Drive como disco duro para aprovechar la red de transferencia que provee Google entre sus herramientas.\n",
        "\n",
        "## 1) Conectar Google Drive\n",
        "\n",
        "Para este proyecto en mi Google Drive cree la carpeta CNN en la cual guardo los siguientes archivos:\n",
        "* Datasets:\n",
        "  * Usualmente utilizo los nombres `dataset.zip`, `dataset_v2.zip`, etc.\n",
        "* Configuraciones:\n",
        "  * El nombre de la configuración al menos tiene el nombre del modelo al cual corresponde\n",
        "* Scripts de entrenamiento:\n",
        "  * Usualmente subo un archivo llamado `all.zip` el cual contiene todo el codigo fuente del repositorio (el conjunto de datos `dataset` se sube aparte).\n",
        "  * En los script se pueden encontrar los archivos `train.py` y `test.py`.\n",
        "\n",
        "El primer paso es solicitar un TOKEN de acceso para ingresar a Google Drive. Luevo revisar que se puede llegar a la carpeta `CNN` con un ls (list). Posterior verificar que hay en el servidor actual, si hay información entonces se limpia el espacio de trabajo y se traen los archivos base (`all.zip` y `dataset.zip`).\n",
        "\n",
        "Luego se descomprimen los archivos y estan listos para ser ejecutados.\n",
        "\n"
      ]
    },
    {
      "cell_type": "code",
      "metadata": {
        "id": "DjbqpDqnFwrT",
        "outputId": "ddbe70d0-51c5-4b91-e6ca-b105e87ca90c",
        "colab": {
          "base_uri": "https://localhost:8080/"
        }
      },
      "source": [
        "# Solicitar Token de contexión para usar Google Drive como disco duro\n",
        "from google.colab import drive\n",
        "drive.mount('/content/drive')"
      ],
      "execution_count": 1,
      "outputs": [
        {
          "output_type": "stream",
          "text": [
            "Mounted at /content/drive\n"
          ],
          "name": "stdout"
        }
      ]
    },
    {
      "cell_type": "code",
      "metadata": {
        "id": "sWlyVVXO5KTf"
      },
      "source": [
        "# Revisar que hay en la carpeta CNN creada en Google Drive\n",
        "!ls drive/My\\ Drive/CNN"
      ],
      "execution_count": null,
      "outputs": []
    },
    {
      "cell_type": "code",
      "metadata": {
        "id": "yBs4zbwI55HY"
      },
      "source": [
        "# Revisar que hay en el servidor que provee Google Colab (esta es la carpeta local del servidor)\n",
        "!ls"
      ],
      "execution_count": null,
      "outputs": []
    },
    {
      "cell_type": "markdown",
      "metadata": {
        "id": "xQOhRVToeiUP"
      },
      "source": [
        "## Instalar dependencias"
      ]
    },
    {
      "cell_type": "code",
      "metadata": {
        "id": "hCKqxCTsx5nH"
      },
      "source": [
        "# Instala las dependencias desde el archivo requirements.txt\n",
        "# PyYAML Y yamldataclassconfig se instalan a parte porque olvide agregarlos al requirements.txt en mi ambiente virtual local\n",
        "!cp drive/My\\ Drive/CNN/requirements.txt requirements.txt\n",
        "!pip install -r requirements.txt\n",
        "!pip install -U PyYAML\n",
        "!pip install -U yamldataclassconfig"
      ],
      "execution_count": null,
      "outputs": []
    },
    {
      "cell_type": "markdown",
      "metadata": {
        "id": "--KkxFX_elYf"
      },
      "source": [
        "## Descomprimir codigo fuente de Google Drive en el servidor local"
      ]
    },
    {
      "cell_type": "code",
      "metadata": {
        "id": "cnEnWVno5jnr"
      },
      "source": [
        "# Copia el codigo fuente almacenado en el archivo all.zip y lo descomprime en la carpeta local\n",
        "!unzip drive/My\\ Drive/CNN/tarea_1.zip -d /content"
      ],
      "execution_count": null,
      "outputs": []
    },
    {
      "cell_type": "markdown",
      "metadata": {
        "id": "EP6UgGsQeqlh"
      },
      "source": [
        "## Descomprimir conjunto de datos en el servidor local\n",
        "\n",
        "* El dataset debe ser preparado con el script `prepare_dataset.py`\n",
        "* Comprimir conjunto de datos generado en un archivo zip llamado `dataset.zip`"
      ]
    },
    {
      "cell_type": "code",
      "metadata": {
        "id": "FkaAH9Svl7Ei"
      },
      "source": [
        "# Copia el conjunto de datos almacenado en el archivo dataset_v2.zip y lo descomprime en la carpeta local\n",
        "!unzip drive/My\\ Drive/CNN/dataset.zip -d /content/dataset"
      ],
      "execution_count": null,
      "outputs": []
    },
    {
      "cell_type": "code",
      "metadata": {
        "id": "_y_8JIkZob11",
        "outputId": "b6a56315-dc86-449a-c3e8-57be9c1c35e6",
        "colab": {
          "base_uri": "https://localhost:8080/"
        }
      },
      "source": [
        "# Revisamos los archivos dentro del dataset\n",
        "!ls dataset"
      ],
      "execution_count": null,
      "outputs": [
        {
          "output_type": "stream",
          "text": [
            "mean.dat\t  test_3.tfrecords  train_0_mean.npy   train_4.tfrecords\n",
            "shape.dat\t  test_4_mean.npy   train_0.tfrecords  train_5_mean.npy\n",
            "test_0_mean.npy   test_4.tfrecords  train_1_mean.npy   train_5.tfrecords\n",
            "test_0.tfrecords  test_5_mean.npy   train_1.tfrecords  train_6_mean.npy\n",
            "test_1_mean.npy   test_5.tfrecords  train_2_mean.npy   train_6.tfrecords\n",
            "test_1.tfrecords  test_6_mean.npy   train_2.tfrecords  train_7_mean.npy\n",
            "test_2_mean.npy   test_6.tfrecords  train_3_mean.npy   train_7.tfrecords\n",
            "test_2.tfrecords  test_7_mean.npy   train_3.tfrecords\n",
            "test_3_mean.npy   test_7.tfrecords  train_4_mean.npy\n"
          ],
          "name": "stdout"
        }
      ]
    },
    {
      "cell_type": "markdown",
      "metadata": {
        "id": "mo0xv7ZVdscb"
      },
      "source": [
        "## Mover las configuraciones (configs) a la raiz del servidor"
      ]
    },
    {
      "cell_type": "code",
      "metadata": {
        "id": "0re7KA1mH_KB",
        "outputId": "475abca6-8a47-422f-9d16-30766fd38bf3",
        "colab": {
          "base_uri": "https://localhost:8080/"
        }
      },
      "source": [
        "# Copiar las configuraciones desde la carpeta configs a la raiz del servidor (puede omitir este paso y ejecutar desde el directorio)\n",
        "!cp configs/*.yml /content\n",
        "!ls | grep yml"
      ],
      "execution_count": 6,
      "outputs": [
        {
          "output_type": "stream",
          "text": [
            "cp: cannot stat 'configs/*.yml': No such file or directory\n",
            "config_colab_alexnet_final.yml\n",
            "config_colab_alexnet_test.yml\n",
            "config_colab_alexnet.yml\n"
          ],
          "name": "stdout"
        }
      ]
    },
    {
      "cell_type": "markdown",
      "metadata": {
        "id": "nefh7bdzdx7F"
      },
      "source": [
        "## Entrenar modelo\n",
        "\n",
        "Debe especificar la configuración utilizada"
      ]
    },
    {
      "cell_type": "code",
      "metadata": {
        "id": "j3incrjEMYvQ"
      },
      "source": [
        "# Entrenamos el modelo especifico con su configuración\n",
        "!python train.py -config '/content/config_colab_resnet_adam_imagenet_v2.yml' -model resnet"
      ],
      "execution_count": null,
      "outputs": []
    },
    {
      "cell_type": "markdown",
      "metadata": {
        "id": "sFb-wAL3d4Fv"
      },
      "source": [
        "## Respaldar resultados\n",
        "\n",
        "Los modelos entrenados se almacenan en la carpeta `experiments`, se deben copiar a la carpeta de Google Drive creada.\n",
        "\n"
      ]
    },
    {
      "cell_type": "code",
      "metadata": {
        "id": "Q4jMJc9u3R2_"
      },
      "source": [
        "# Mostrar experimentos realizados\n",
        "!ls experiments\n",
        "\n",
        "# Copiar experimento local a la carpeta de Google Drive\n",
        "!cp experiments/01112020225843_resnet_model.zip drive/My\\ Drive/CNN/experiments/01112020225843_resnet_model.zip\n",
        "\n",
        "# Revisar si los experimentos en la carpeta de Google Drive\n",
        "!ls drive/My\\ Drive/CNN/experiments"
      ],
      "execution_count": null,
      "outputs": []
    },
    {
      "cell_type": "code",
      "metadata": {
        "id": "eVacnRyVFvFd"
      },
      "source": [
        ""
      ],
      "execution_count": null,
      "outputs": []
    }
  ]
}